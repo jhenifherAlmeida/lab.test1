{
 "cells": [
  {
   "cell_type": "code",
   "execution_count": 6,
   "metadata": {},
   "outputs": [
    {
     "name": "stdout",
     "output_type": "stream",
     "text": [
      "Enter the quantity of each product available:\n",
      "Enter the name of 3 products the costumers wants to order (choose from t-shirt, mug, hat, book, keychain\n",
      "Products ordered by the costumers\n",
      "{'book', 'mug', 'hat'}\n",
      "Order statistics:\n",
      "Total Products Ordered: 3\n",
      "Percentage of products ordered: 60.00%\n",
      "Updating inventory\n",
      "book order processed.Remaining stock: 1\n",
      "mug order processed.Remaining stock: 1\n",
      "Sorry, hat is out of stock.\n"
     ]
    }
   ],
   "source": [
    "# Define list of produtcs\n",
    "products = [ \"t-shirt\", \"mug\", \"hat\", \"book\", \"keychain\"]\n",
    "\n",
    "#Empty dictionary for inventory\n",
    "inventory = {}\n",
    "\n",
    "#Ask the user to input the quantity of each products\n",
    "print(\"Enter the quantity of each product available:\")\n",
    "for product in products:\n",
    "    quantity = int(input(f\"{product}: \"))\n",
    "    inventory[product] = quantity\n",
    "\n",
    "# Empty set for costumers orders\n",
    "customers_orders = {'orders': set()}\n",
    "\n",
    "# Ask the user to input 3 products \n",
    "print(\"Enter the name of 3 products the costumers wants to order (choose from t-shirt, mug, hat, book, keychain\")\n",
    "for i in range(3):\n",
    "    while True:\n",
    "        item = input(f\"product {i + 1}: \").strip().lower()\n",
    "        if item in products:\n",
    "           customers_orders['orders'].add(item)\n",
    "           break\n",
    "        else:\n",
    "            print(\"Invalid product. Please choose from available products.\")\n",
    "               \n",
    "#print the products in costumer_orders\n",
    "print('Products ordered by the costumers')\n",
    "print(customers_orders['orders'])\n",
    "\n",
    "#Calculate order statisticsmug\n",
    "total_products_ordered = len(customers_orders['orders'])\n",
    "percentage_ordered = (total_products_ordered * 100) / len(products)\n",
    "order_status = (total_products_ordered, percentage_ordered )\n",
    "\n",
    "\n",
    "#print the statistics\n",
    "print(\"Order statistics:\")\n",
    "print(f\"Total Products Ordered: {order_status[0]}\")\n",
    "print(f\"Percentage of products ordered: {order_status[1]:.2f}%\")\n",
    "\n",
    "#update inventory\n",
    "print(\"Updating inventory\")\n",
    "for item in customers_orders[\"orders\"]:\n",
    "    if item in inventory and inventory[item] > 0 :\n",
    "       inventory[item] -= 1 \n",
    "       print(f\"{item} order processed.Remaining stock: {inventory[item]}\")\n",
    "  \n",
    "    else:\n",
    "      print(f\"Sorry, {item} is out of stock.\")   \n",
    "\n"
   ]
  }
 ],
 "metadata": {
  "kernelspec": {
   "display_name": "base",
   "language": "python",
   "name": "python3"
  },
  "language_info": {
   "codemirror_mode": {
    "name": "ipython",
    "version": 3
   },
   "file_extension": ".py",
   "mimetype": "text/x-python",
   "name": "python",
   "nbconvert_exporter": "python",
   "pygments_lexer": "ipython3",
   "version": "3.12.7"
  }
 },
 "nbformat": 4,
 "nbformat_minor": 2
}
